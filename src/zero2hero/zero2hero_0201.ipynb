{
 "cells": [
  {
   "cell_type": "markdown",
   "metadata": {},
   "source": [
    "# Zero to Hero"
   ]
  },
  {
   "cell_type": "markdown",
   "metadata": {},
   "source": [
    "## 2.01 Optimizacion Bayesiana"
   ]
  },
  {
   "cell_type": "raw",
   "metadata": {},
   "source": [
    "El objetivo es mostrar como funciona la Optimizacion Bayesiana en el caso mas simple : una funcion univariada"
   ]
  },
  {
   "cell_type": "markdown",
   "metadata": {},
   "source": [
    "### Advertencia"
   ]
  },
  {
   "cell_type": "markdown",
   "metadata": {},
   "source": [
    "El uso del método de Optimización Bayesiana para la optimización de hiperparámetros en modelos predictivos tiene menos de una década.\n",
    "Entender los fundamentos de la O.B. requieren de una sólida formación matemática y **no** son el objetivo de esta asignatura.\n",
    "Para quienes deseen aventurarse a los detalles técnicos:\n",
    "* El paper original de la libreria mlrMBO (año 2018 )   https://arxiv.org/pdf/1703.03373.pdf\n",
    "* El método de Kriging , tal cual se deriva del uso original, en este pequeño libro de 106 páginas \"Basic Steps in Geostatistics: The Variogram and Kriging\" https://www.pdfdrive.com/basic-steps-in-geostatistics-the-variogram-and-kriging-e187336318.html"
   ]
  },
  {
   "cell_type": "markdown",
   "metadata": {},
   "source": [
    "### El código"
   ]
  },
  {
   "cell_type": "code",
   "execution_count": 14,
   "metadata": {
    "tags": [],
    "vscode": {
     "languageId": "r"
    }
   },
   "outputs": [
    {
     "data": {
      "text/html": [
       "<table class=\"dataframe\">\n",
       "<caption>A matrix: 2 × 6 of type dbl</caption>\n",
       "<thead>\n",
       "\t<tr><th></th><th scope=col>used</th><th scope=col>(Mb)</th><th scope=col>gc trigger</th><th scope=col>(Mb)</th><th scope=col>max used</th><th scope=col>(Mb)</th></tr>\n",
       "</thead>\n",
       "<tbody>\n",
       "\t<tr><th scope=row>Ncells</th><td> 647930</td><td>34.7</td><td>1321322</td><td>70.6</td><td>1321322</td><td>70.6</td></tr>\n",
       "\t<tr><th scope=row>Vcells</th><td>1158985</td><td> 8.9</td><td>8388608</td><td>64.0</td><td>1632691</td><td>12.5</td></tr>\n",
       "</tbody>\n",
       "</table>\n"
      ],
      "text/latex": [
       "A matrix: 2 × 6 of type dbl\n",
       "\\begin{tabular}{r|llllll}\n",
       "  & used & (Mb) & gc trigger & (Mb) & max used & (Mb)\\\\\n",
       "\\hline\n",
       "\tNcells &  647930 & 34.7 & 1321322 & 70.6 & 1321322 & 70.6\\\\\n",
       "\tVcells & 1158985 &  8.9 & 8388608 & 64.0 & 1632691 & 12.5\\\\\n",
       "\\end{tabular}\n"
      ],
      "text/markdown": [
       "\n",
       "A matrix: 2 × 6 of type dbl\n",
       "\n",
       "| <!--/--> | used | (Mb) | gc trigger | (Mb) | max used | (Mb) |\n",
       "|---|---|---|---|---|---|---|\n",
       "| Ncells |  647930 | 34.7 | 1321322 | 70.6 | 1321322 | 70.6 |\n",
       "| Vcells | 1158985 |  8.9 | 8388608 | 64.0 | 1632691 | 12.5 |\n",
       "\n"
      ],
      "text/plain": [
       "       used    (Mb) gc trigger (Mb) max used (Mb)\n",
       "Ncells  647930 34.7 1321322    70.6 1321322  70.6\n",
       "Vcells 1158985  8.9 8388608    64.0 1632691  12.5"
      ]
     },
     "metadata": {},
     "output_type": "display_data"
    },
    {
     "name": "stderr",
     "output_type": "stream",
     "text": [
      "Loading required package: DiceKriging\n",
      "\n",
      "Warning message in library(package, lib.loc = lib.loc, character.only = TRUE, logical.return = TRUE, :\n",
      "\"there is no package called 'DiceKriging'\"\n",
      "Installing package into 'C:/Users/valen/AppData/Local/R/win-library/4.2'\n",
      "(as 'lib' is unspecified)\n",
      "\n",
      "also installing the dependencies 'XML', 'fastmatch', 'mlr', 'ParamHelpers', 'smoof', 'BBmisc', 'lhs', 'parallelMap'\n",
      "\n",
      "\n"
     ]
    },
    {
     "name": "stdout",
     "output_type": "stream",
     "text": [
      "package 'XML' successfully unpacked and MD5 sums checked\n",
      "package 'fastmatch' successfully unpacked and MD5 sums checked\n",
      "package 'mlr' successfully unpacked and MD5 sums checked\n",
      "package 'ParamHelpers' successfully unpacked and MD5 sums checked\n",
      "package 'smoof' successfully unpacked and MD5 sums checked\n",
      "package 'BBmisc' successfully unpacked and MD5 sums checked\n",
      "package 'lhs' successfully unpacked and MD5 sums checked\n",
      "package 'parallelMap' successfully unpacked and MD5 sums checked\n",
      "package 'mlrMBO' successfully unpacked and MD5 sums checked\n",
      "\n",
      "The downloaded binary packages are in\n",
      "\tC:\\Users\\valen\\AppData\\Local\\Temp\\RtmpU773Zk\\downloaded_packages\n"
     ]
    },
    {
     "name": "stderr",
     "output_type": "stream",
     "text": [
      "Loading required package: mlrMBO\n",
      "\n",
      "Loading required package: mlr\n",
      "\n",
      "Loading required package: ParamHelpers\n",
      "\n",
      "Warning message: 'mlr' is in 'maintenance-only' mode since July 2019.\n",
      "Future development will only happen in 'mlr3'\n",
      "(<https://mlr3.mlr-org.com>). Due to the focus on 'mlr3' there might be\n",
      "uncaught bugs meanwhile in {mlr} - please consider switching.\n",
      "\n",
      "Loading required package: smoof\n",
      "\n",
      "Loading required package: checkmate\n",
      "\n"
     ]
    }
   ],
   "source": [
    "#Ejemplo de optimizacion bayesiana, univariada\n",
    "\n",
    "#limpio la memoria\n",
    "rm( list=ls() )  #remove all objects\n",
    "gc()             #garbage collection\n",
    "\n",
    "require(\"data.table\")\n",
    "#paquetes necesarios para la Bayesian Optimization\n",
    "require(\"DiceKriging\")\n",
    "#install.packages(\"mlrMBO\")\n",
    "require(\"mlrMBO\")\n",
    "\n",
    "options(repr.plot.width=20, repr.plot.height=10)"
   ]
  },
  {
   "cell_type": "markdown",
   "metadata": {},
   "source": [
    "### Defino la funcion a optimizar, un polinomio de grado 4"
   ]
  },
  {
   "cell_type": "code",
   "execution_count": 16,
   "metadata": {
    "tags": [],
    "vscode": {
     "languageId": "r"
    }
   },
   "outputs": [],
   "source": [
    "func_univariada01  <- function( x )\n",
    "{\n",
    "  y  <- -2 * (x+13) * (x-3) * (x-7) * (x-19)\n",
    "\n",
    "  return( y )\n",
    "}"
   ]
  },
  {
   "cell_type": "markdown",
   "metadata": {},
   "source": [
    "Grafico la funcion"
   ]
  },
  {
   "cell_type": "code",
   "execution_count": 17,
   "metadata": {
    "tags": [],
    "vscode": {
     "languageId": "r"
    }
   },
   "outputs": [
    {
     "data": {
      "image/png": "[encoded data removed]",
      "text/plain": [
       "plot without title"
      ]
     },
     "metadata": {
      "image/png": {
       "height": 600,
       "width": 1200
      }
     },
     "output_type": "display_data"
    }
   ],
   "source": [
    "intervalo  <- seq(-15,21,0.1)\n",
    "plot(intervalo, func_univariada01(intervalo))"
   ]
  },
  {
   "cell_type": "markdown",
   "metadata": {},
   "source": [
    "La funcion tiene dos máximos, uno de ellos es el global."
   ]
  },
  {
   "cell_type": "markdown",
   "metadata": {},
   "source": [
    "### Optimizacion Bayesiana"
   ]
  },
  {
   "cell_type": "markdown",
   "metadata": {},
   "source": [
    "¿Qué tan rápido encontrará la Optmización Bayesiana el máximo global?"
   ]
  },
  {
   "cell_type": "markdown",
   "metadata": {},
   "source": [
    "Defino las caracteristicas de la optimizacion"
   ]
  },
  {
   "cell_type": "markdown",
   "metadata": {},
   "source": [
    "* **fn**    es el nombre de la funcion\n",
    "* **minimize**   por defecto es TRUE,  pero en este caso le asigno FALSE, ya que deseo maximizar  el valor\n",
    "* **par.set**  indica cuales son los hiperparmetros de la funcion, en este caso hay una sola variable que llamé  x\n",
    "---\n",
    "* **makeNumericParam** indica que ese hiperparámetro es un numero real, una variable continua  ( no es ni un entero ni una categoria )"
   ]
  },
  {
   "cell_type": "code",
   "execution_count": 18,
   "metadata": {
    "tags": [],
    "vscode": {
     "languageId": "r"
    }
   },
   "outputs": [],
   "source": [
    "obj.fun  <- makeSingleObjectiveFunction(\n",
    "              fn=       func_univariada01,\n",
    "              minimize= FALSE,   #estoy Maximizando la ganancia\n",
    "              par.set=  makeParamSet(  makeNumericParam( \"x\", lower= -100, upper=  100) ),\n",
    "             )"
   ]
  },
  {
   "cell_type": "markdown",
   "metadata": {},
   "source": [
    "ahora defino la funcion proxy, la que se construye internamente intentando emular la realidad"
   ]
  },
  {
   "cell_type": "markdown",
   "metadata": {},
   "source": [
    "* **cl**  es la clase de learner,  \"reg.km\" indica el método de kriging \"**reg**ression **k**riging **m**ethodd\"\n",
    "* **predict.type**  es el tipo de prediccion que deseo me devuelva, \"se\" significa que espero dos valores  media y standard error\n",
    "* **covtype**    es la funcion de covarianza que se va a utilizar, cual es la covarianza de dos mediciones como fucion de la distancia entre los puntos donde fueron tomadas las mediciones, fue inventada por Bertil Matérn "
   ]
  },
  {
   "cell_type": "markdown",
   "metadata": {},
   "source": [
    "El método de kriging puede verse en su forma original (la geología) , esta presentación https://www.youtube.com/watch?v=ZB7GvJrNKq0"
   ]
  },
  {
   "cell_type": "code",
   "execution_count": 20,
   "metadata": {
    "vscode": {
     "languageId": "r"
    }
   },
   "outputs": [
    {
     "name": "stderr",
     "output_type": "stream",
     "text": [
      "Installing package into 'C:/Users/valen/AppData/Local/R/win-library/4.2'\n",
      "(as 'lib' is unspecified)\n",
      "\n"
     ]
    },
    {
     "name": "stdout",
     "output_type": "stream",
     "text": [
      "package 'DiceKriging' successfully unpacked and MD5 sums checked\n",
      "\n",
      "The downloaded binary packages are in\n",
      "\tC:\\Users\\valen\\AppData\\Local\\Temp\\RtmpU773Zk\\downloaded_packages\n"
     ]
    }
   ],
   "source": [
    "install.packages(\"DiceKriging\")"
   ]
  },
  {
   "cell_type": "code",
   "execution_count": 21,
   "metadata": {
    "tags": [],
    "vscode": {
     "languageId": "r"
    }
   },
   "outputs": [],
   "source": [
    "fproxy  <- makeLearner( cl= \"regr.km\",\n",
    "                        predict.type= \"se\", \n",
    "                        covtype= \"matern3_2\" )"
   ]
  },
  {
   "cell_type": "markdown",
   "metadata": {},
   "source": [
    "ultima definicion,  especificar la optimizacion bayesiana\n",
    "*  **crit**   indica el criterio con el que se completan los valores iniciales \"no inteligentes\"\n",
    "*  **iters**  indica la cantidad de iteraciones inteligentes que hará la Optimizacion Bayesiana, las que son adicionales a las primeras cuatro de este caso.*  **iters**  indica la cantidad de iteraciones inteligentes que hará la Optimizacion Bayesiana, las que son adicionales a las primeras cuatro de este caso."
   ]
  },
  {
   "cell_type": "code",
   "execution_count": 22,
   "metadata": {
    "tags": [],
    "vscode": {
     "languageId": "r"
    }
   },
   "outputs": [],
   "source": [
    "ctrl  <- makeMBOControl()\n",
    "ctrl  <- setMBOControlInfill( ctrl, crit= makeMBOInfillCritEI())\n",
    "ctrl  <- setMBOControlTermination( ctrl, iters= 25 )"
   ]
  },
  {
   "cell_type": "markdown",
   "metadata": {},
   "source": [
    "finalmente , lanzo la Optimizacion Bayesiana"
   ]
  },
  {
   "cell_type": "markdown",
   "metadata": {},
   "source": [
    "* **fun**  es la especificacion de la funcion que deseo optimizar, si maximizo o minimizo, cuales son las variables de la misma\n",
    "* **learner**  especifica cual es la función proxy interna que va a utilizar la Optimziación Bayesiana\n",
    "* **control**  indica la la forma en que se harán las iteraciones"
   ]
  },
  {
   "cell_type": "code",
   "execution_count": 23,
   "metadata": {
    "tags": [],
    "vscode": {
     "languageId": "r"
    }
   },
   "outputs": [
    {
     "name": "stderr",
     "output_type": "stream",
     "text": [
      "Computing y column(s) for design. Not provided.\n",
      "\n",
      "[mbo] 0: x=66.1 : y = -2.78e+07 : 0.0 secs : initdesign\n",
      "\n",
      "[mbo] 0: x=-69.6 : y = -5.57e+07 : 0.0 secs : initdesign\n",
      "\n",
      "[mbo] 0: x=19.9 : y = -1.3e+04 : 0.0 secs : initdesign\n",
      "\n",
      "[mbo] 0: x=-31.6 : y = -2.51e+06 : 0.0 secs : initdesign\n",
      "\n"
     ]
    },
    {
     "name": "stdout",
     "output_type": "stream",
     "text": [
      "\n",
      "optimisation start\n",
      "------------------\n",
      "* estimation method   : MLE \n",
      "* optimisation method : BFGS \n",
      "* analytical gradient : used\n",
      "* trend model : ~1\n",
      "* covariance model : \n",
      "  - type :  matern3_2 \n",
      "  - nugget : NO\n",
      "  - parameters lower bounds :  1e-10 \n",
      "  - parameters upper bounds :  271.4306 \n",
      "  - best initial criterion value(s) :  -73.46151 \n",
      "\n",
      "N = 1, M = 5 machine precision = 2.22045e-16\n",
      "At X0, 0 variables are exactly at the bounds\n",
      "At iterate     0  f=       73.462  |proj g|=     0.016672\n",
      "At iterate     1  f =       73.461  |proj g|=       0.01664\n",
      "At iterate     2  f =       73.401  |proj g|=    0.00015191\n",
      "At iterate     3  f =       73.401  |proj g|=    0.00013186\n",
      "At iterate     4  f =       73.401  |proj g|=    4.5313e-05\n",
      "At iterate     5  f =       73.401  |proj g|=    2.3106e-05\n",
      "At iterate     6  f =       73.401  |proj g|=    1.0317e-05\n",
      "At iterate     7  f =       73.401  |proj g|=    4.8979e-06\n",
      "At iterate     8  f =       73.401  |proj g|=    2.2899e-06\n",
      "At iterate     9  f =       73.401  |proj g|=    1.0841e-06\n",
      "At iterate    10  f =       73.401  |proj g|=    5.1367e-07\n",
      "\n",
      "iterations 10\n",
      "function evaluations 11\n",
      "segments explored during Cauchy searches 10\n",
      "BFGS updates skipped 0\n",
      "active bounds at final generalized Cauchy point 0\n",
      "norm of the final projected gradient 5.13666e-07\n",
      "final function value 73.4013\n",
      "\n",
      "F = 73.4013\n",
      "final  value 73.401322 \n",
      "converged\n"
     ]
    },
    {
     "name": "stderr",
     "output_type": "stream",
     "text": [
      "[mbo] 1: x=17.5 : y = 1.37e+04 : 0.0 secs : infill_ei\n",
      "\n"
     ]
    },
    {
     "name": "stdout",
     "output_type": "stream",
     "text": [
      "\n",
      "optimisation start\n",
      "------------------\n",
      "* estimation method   : MLE \n",
      "* optimisation method : BFGS \n",
      "* analytical gradient : used\n",
      "* trend model : ~1\n",
      "* covariance model : \n",
      "  - type :  matern3_2 \n",
      "  - nugget : NO\n",
      "  - parameters lower bounds :  1e-10 \n",
      "  - parameters upper bounds :  271.4306 \n",
      "  - best initial criterion value(s) :  -89.69695 \n",
      "\n",
      "N = 1, M = 5 machine precision = 2.22045e-16\n",
      "At X0, 0 variables are exactly at the bounds\n",
      "At iterate     0  f=       89.697  |proj g|=    0.0013265\n",
      "At iterate     1  f =       89.697  |proj g|=     0.0013254\n",
      "At iterate     2  f =       89.696  |proj g|=    8.1805e-05\n",
      "At iterate     3  f =       89.696  |proj g|=    4.6991e-06\n",
      "At iterate     4  f =       89.696  |proj g|=    1.5656e-08\n",
      "\n",
      "iterations 4\n",
      "function evaluations 5\n",
      "segments explored during Cauchy searches 4\n",
      "BFGS updates skipped 0\n",
      "active bounds at final generalized Cauchy point 0\n",
      "norm of the final projected gradient 1.56558e-08\n",
      "final function value 89.696\n",
      "\n",
      "F = 89.696\n",
      "final  value 89.695960 \n",
      "converged\n"
     ]
    },
    {
     "name": "stderr",
     "output_type": "stream",
     "text": [
      "[mbo] 2: x=-11.6 : y = 2.33e+04 : 0.0 secs : infill_ei\n",
      "\n"
     ]
    },
    {
     "name": "stdout",
     "output_type": "stream",
     "text": [
      "\n",
      "optimisation start\n",
      "------------------\n",
      "* estimation method   : MLE \n",
      "* optimisation method : BFGS \n",
      "* analytical gradient : used\n",
      "* trend model : ~1\n",
      "* covariance model : \n",
      "  - type :  matern3_2 \n",
      "  - nugget : NO\n",
      "  - parameters lower bounds :  1e-10 \n",
      "  - parameters upper bounds :  271.4306 \n",
      "  - best initial criterion value(s) :  -106.8653 \n",
      "\n",
      "N = 1, M = 5 machine precision = 2.22045e-16\n",
      "At X0, 0 variables are exactly at the bounds\n",
      "At iterate     0  f=       106.87  |proj g|=   0.00037088\n",
      "At iterate     1  f =       106.87  |proj g|=    0.00037064\n",
      "\n",
      "iterations 1\n",
      "function evaluations 2\n",
      "segments explored during Cauchy searches 1\n",
      "BFGS updates skipped 0\n",
      "active bounds at final generalized Cauchy point 0\n",
      "norm of the final projected gradient 0.000370637\n",
      "final function value 106.865\n",
      "\n",
      "F = 106.865\n",
      "final  value 106.865254 \n",
      "converged\n"
     ]
    },
    {
     "name": "stderr",
     "output_type": "stream",
     "text": [
      "[mbo] 3: x=-21.3 : y = -4.59e+05 : 0.0 secs : infill_ei\n",
      "\n"
     ]
    },
    {
     "name": "stdout",
     "output_type": "stream",
     "text": [
      "\n",
      "optimisation start\n",
      "------------------\n",
      "* estimation method   : MLE \n",
      "* optimisation method : BFGS \n",
      "* analytical gradient : used\n",
      "* trend model : ~1\n",
      "* covariance model : \n",
      "  - type :  matern3_2 \n",
      "  - nugget : NO\n",
      "  - parameters lower bounds :  1e-10 \n",
      "  - parameters upper bounds :  271.4306 \n",
      "  - best initial criterion value(s) :  -122.7539 \n",
      "\n",
      "N = 1, M = 5 machine precision = 2.22045e-16\n",
      "At X0, 0 variables are exactly at the bounds\n",
      "At iterate     0  f=       122.75  |proj g|=     0.002501\n",
      "At iterate     1  f =       122.75  |proj g|=     0.0025005\n",
      "At iterate     2  f =       122.74  |proj g|=    0.00094119\n",
      "At iterate     3  f =       122.74  |proj g|=    0.00021917\n",
      "At iterate     4  f =       122.74  |proj g|=    1.4948e-05\n",
      "At iterate     5  f =       122.74  |proj g|=    2.5971e-07\n",
      "At iterate     6  f =       122.74  |proj g|=    3.0114e-10\n",
      "\n",
      "iterations 6\n",
      "function evaluations 7\n",
      "segments explored during Cauchy searches 6\n",
      "BFGS updates skipped 0\n",
      "active bounds at final generalized Cauchy point 0\n",
      "norm of the final projected gradient 3.01144e-10\n",
      "final function value 122.741\n",
      "\n",
      "F = 122.741\n",
      "final  value 122.740699 \n",
      "converged\n"
     ]
    },
    {
     "name": "stderr",
     "output_type": "stream",
     "text": [
      "[mbo] 4: x=2.01 : y = 2.53e+03 : 0.0 secs : infill_ei\n",
      "\n"
     ]
    },
    {
     "name": "stdout",
     "output_type": "stream",
     "text": [
      "\n",
      "optimisation start\n",
      "------------------\n",
      "* estimation method   : MLE \n",
      "* optimisation method : BFGS \n",
      "* analytical gradient : used\n",
      "* trend model : ~1\n",
      "* covariance model : \n",
      "  - type :  matern3_2 \n",
      "  - nugget : NO\n",
      "  - parameters lower bounds :  1e-10 \n",
      "  - parameters upper bounds :  271.4306 \n",
      "  - best initial criterion value(s) :  -138.5132 \n",
      "\n",
      "N = 1, M = 5 machine precision = 2.22045e-16\n",
      "At X0, 0 variables are exactly at the bounds\n",
      "At iterate     0  f=       138.51  |proj g|=   0.00014537\n",
      "At iterate     1  f =       138.51  |proj g|=    0.00014534\n",
      "\n",
      "iterations 1\n",
      "function evaluations 2\n",
      "segments explored during Cauchy searches 1\n",
      "BFGS updates skipped 0\n",
      "active bounds at final generalized Cauchy point 0\n",
      "norm of the final projected gradient 0.000145344\n",
      "final function value 138.513\n",
      "\n",
      "F = 138.513\n",
      "final  value 138.513238 \n",
      "converged\n"
     ]
    },
    {
     "name": "stderr",
     "output_type": "stream",
     "text": [
      "[mbo] 5: x=-4.88 : y = 3.63e+04 : 0.0 secs : infill_ei\n",
      "\n"
     ]
    },
    {
     "name": "stdout",
     "output_type": "stream",
     "text": [
      "\n",
      "optimisation start\n",
      "------------------\n",
      "* estimation method   : MLE \n",
      "* optimisation method : BFGS \n",
      "* analytical gradient : used\n",
      "* trend model : ~1\n",
      "* covariance model : \n",
      "  - type :  matern3_2 \n",
      "  - nugget : NO\n",
      "  - parameters lower bounds :  1e-10 \n",
      "  - parameters upper bounds :  271.4306 \n",
      "  - best initial criterion value(s) :  -153.1778 \n",
      "\n",
      "N = 1, M = 5 machine precision = 2.22045e-16\n",
      "At X0, 0 variables are exactly at the bounds\n",
      "At iterate     0  f=       153.18  |proj g|=    0.0015009\n",
      "At iterate     1  f =       153.18  |proj g|=     0.0015008\n",
      "At iterate     2  f =       153.17  |proj g|=    0.00056663\n",
      "At iterate     3  f =       153.16  |proj g|=    0.00013229\n",
      "At iterate     4  f =       153.16  |proj g|=    9.0779e-06\n",
      "At iterate     5  f =       153.16  |proj g|=    1.5913e-07\n",
      "At iterate     6  f =       153.16  |proj g|=    1.8729e-10\n",
      "\n",
      "iterations 6\n",
      "function evaluations 7\n",
      "segments explored during Cauchy searches 6\n",
      "BFGS updates skipped 0\n",
      "active bounds at final generalized Cauchy point 0\n",
      "norm of the final projected gradient 1.87291e-10\n",
      "final function value 153.165\n",
      "\n",
      "F = 153.165\n",
      "final  value 153.164744 \n",
      "converged\n"
     ]
    },
    {
     "name": "stderr",
     "output_type": "stream",
     "text": [
      "[mbo] 6: x=9.49 : y = 6.92e+03 : 0.0 secs : infill_ei\n",
      "\n"
     ]
    },
    {
     "name": "stdout",
     "output_type": "stream",
     "text": [
      "\n",
      "optimisation start\n",
      "------------------\n",
      "* estimation method   : MLE \n",
      "* optimisation method : BFGS \n",
      "* analytical gradient : used\n",
      "* trend model : ~1\n",
      "* covariance model : \n",
      "  - type :  matern3_2 \n",
      "  - nugget : NO\n",
      "  - parameters lower bounds :  1e-10 \n",
      "  - parameters upper bounds :  271.4306 \n",
      "  - best initial criterion value(s) :  -167.7147 \n",
      "\n",
      "N = 1, M = 5 machine precision = 2.22045e-16\n",
      "At X0, 0 variables are exactly at the bounds\n",
      "At iterate     0  f=       167.71  |proj g|=    0.0010598\n",
      "At iterate     1  f =       167.71  |proj g|=     0.0010597\n",
      "At iterate     2  f =       167.71  |proj g|=    0.00012367\n",
      "At iterate     3  f =       167.71  |proj g|=    1.6611e-05\n",
      "At iterate     4  f =       167.71  |proj g|=    3.1104e-07\n",
      "At iterate     5  f =       167.71  |proj g|=    8.0103e-10\n",
      "\n",
      "iterations 5\n",
      "function evaluations 6\n",
      "segments explored during Cauchy searches 5\n",
      "BFGS updates skipped 0\n",
      "active bounds at final generalized Cauchy point 0\n",
      "norm of the final projected gradient 8.01027e-10\n",
      "final function value 167.709\n",
      "\n",
      "F = 167.709\n",
      "final  value 167.709030 \n",
      "converged\n"
     ]
    },
    {
     "name": "stderr",
     "output_type": "stream",
     "text": [
      "[mbo] 7: x=28.7 : y = -4.48e+05 : 0.0 secs : infill_ei\n",
      "\n"
     ]
    },
    {
     "name": "stdout",
     "output_type": "stream",
     "text": [
      "\n",
      "optimisation start\n",
      "------------------\n",
      "* estimation method   : MLE \n",
      "* optimisation method : BFGS \n",
      "* analytical gradient : used\n",
      "* trend model : ~1\n",
      "* covariance model : \n",
      "  - type :  matern3_2 \n",
      "  - nugget : NO\n",
      "  - parameters lower bounds :  1e-10 \n",
      "  - parameters upper bounds :  271.4306 \n",
      "  - best initial criterion value(s) :  -183.3742 \n",
      "\n",
      "N = 1, M = 5 machine precision = 2.22045e-16\n",
      "At X0, 0 variables are exactly at the bounds\n",
      "At iterate     0  f=       183.37  |proj g|=   0.00097957\n",
      "At iterate     1  f =       183.37  |proj g|=    0.00097953\n",
      "At iterate     2  f =       183.37  |proj g|=    0.00028647\n",
      "At iterate     3  f =       183.36  |proj g|=    5.7648e-05\n",
      "At iterate     4  f =       183.36  |proj g|=    2.7161e-06\n",
      "At iterate     5  f =       183.36  |proj g|=    2.7366e-08\n",
      "\n",
      "iterations 5\n",
      "function evaluations 6\n",
      "segments explored during Cauchy searches 5\n",
      "BFGS updates skipped 0\n",
      "active bounds at final generalized Cauchy point 0\n",
      "norm of the final projected gradient 2.73656e-08\n",
      "final function value 183.365\n",
      "\n",
      "F = 183.365\n",
      "final  value 183.364834 \n",
      "converged\n"
     ]
    },
    {
     "name": "stderr",
     "output_type": "stream",
     "text": [
      "[mbo] 8: x=24.1 : y = -1.38e+05 : 0.0 secs : infill_ei\n",
      "\n"
     ]
    },
    {
     "name": "stdout",
     "output_type": "stream",
     "text": [
      "\n",
      "optimisation start\n",
      "------------------\n",
      "* estimation method   : MLE \n",
      "* optimisation method : BFGS \n",
      "* analytical gradient : used\n",
      "* trend model : ~1\n",
      "* covariance model : \n",
      "  - type :  matern3_2 \n",
      "  - nugget : NO\n",
      "  - parameters lower bounds :  1e-10 \n",
      "  - parameters upper bounds :  271.4306 \n",
      "  - best initial criterion value(s) :  -197.1117 \n",
      "\n",
      "N = 1, M = 5 machine precision = 2.22045e-16\n",
      "At X0, 0 variables are exactly at the bounds\n",
      "At iterate     0  f=       197.11  |proj g|=   6.3257e-07\n",
      "At iterate     1  f =       197.11  |proj g|=    6.3256e-07\n",
      "\n",
      "iterations 1\n",
      "function evaluations 10\n",
      "segments explored during Cauchy searches 1\n",
      "BFGS updates skipped 0\n",
      "active bounds at final generalized Cauchy point 0\n",
      "norm of the final projected gradient 6.32565e-07\n",
      "final function value 197.112\n",
      "\n",
      "F = 197.112\n",
      "final  value 197.111695 \n",
      "converged\n"
     ]
    },
    {
     "name": "stderr",
     "output_type": "stream",
     "text": [
      "[mbo] 9: x=-8.31 : y = 4.44e+04 : 0.0 secs : infill_ei\n",
      "\n"
     ]
    },
    {
     "name": "stdout",
     "output_type": "stream",
     "text": [
      "\n",
      "optimisation start\n",
      "------------------\n",
      "* estimation method   : MLE \n",
      "* optimisation method : BFGS \n",
      "* analytical gradient : used\n",
      "* trend model : ~1\n",
      "* covariance model : \n",
      "  - type :  matern3_2 \n",
      "  - nugget : NO\n",
      "  - parameters lower bounds :  1e-10 \n",
      "  - parameters upper bounds :  271.4306 \n",
      "  - best initial criterion value(s) :  -210.4038 \n",
      "\n",
      "N = 1, M = 5 machine precision = 2.22045e-16\n",
      "At X0, 0 variables are exactly at the bounds\n",
      "At iterate     0  f=        210.4  |proj g|=   0.00027536\n",
      "At iterate     1  f =        210.4  |proj g|=    0.00027535\n",
      "\n",
      "iterations 1\n",
      "function evaluations 2\n",
      "segments explored during Cauchy searches 1\n",
      "BFGS updates skipped 0\n",
      "active bounds at final generalized Cauchy point 0\n",
      "norm of the final projected gradient 0.000275347\n",
      "final function value 210.404\n",
      "\n",
      "F = 210.404\n",
      "final  value 210.403770 \n",
      "converged\n"
     ]
    },
    {
     "name": "stderr",
     "output_type": "stream",
     "text": [
      "[mbo] 10: x=13.4 : y = 1.96e+04 : 0.0 secs : infill_ei\n",
      "\n"
     ]
    },
    {
     "name": "stdout",
     "output_type": "stream",
     "text": [
      "\n",
      "optimisation start\n",
      "------------------\n",
      "* estimation method   : MLE \n",
      "* optimisation method : BFGS \n",
      "* analytical gradient : used\n",
      "* trend model : ~1\n",
      "* covariance model : \n",
      "  - type :  matern3_2 \n",
      "  - nugget : NO\n",
      "  - parameters lower bounds :  1e-10 \n",
      "  - parameters upper bounds :  271.4306 \n",
      "  - best initial criterion value(s) :  -223.7649 \n",
      "\n",
      "N = 1, M = 5 machine precision = 2.22045e-16\n",
      "At X0, 0 variables are exactly at the bounds\n",
      "At iterate     0  f=       223.76  |proj g|=    1.014e-05\n",
      "At iterate     1  f =       223.76  |proj g|=     1.014e-05\n",
      "\n",
      "iterations 1\n",
      "function evaluations 2\n",
      "segments explored during Cauchy searches 1\n",
      "BFGS updates skipped 0\n",
      "active bounds at final generalized Cauchy point 0\n",
      "norm of the final projected gradient 1.014e-05\n",
      "final function value 223.765\n",
      "\n",
      "F = 223.765\n",
      "final  value 223.764923 \n",
      "converged\n"
     ]
    },
    {
     "name": "stderr",
     "output_type": "stream",
     "text": [
      "[mbo] 11: x=5.68 : y = -1.76e+03 : 0.0 secs : infill_ei\n",
      "\n"
     ]
    },
    {
     "name": "stdout",
     "output_type": "stream",
     "text": [
      "\n",
      "optimisation start\n",
      "------------------\n",
      "* estimation method   : MLE \n",
      "* optimisation method : BFGS \n",
      "* analytical gradient : used\n",
      "* trend model : ~1\n",
      "* covariance model : \n",
      "  - type :  matern3_2 \n",
      "  - nugget : NO\n",
      "  - parameters lower bounds :  1e-10 \n",
      "  - parameters upper bounds :  271.4306 \n",
      "  - best initial criterion value(s) :  -236.9989 \n",
      "\n",
      "N = 1, M = 5 machine precision = 2.22045e-16\n",
      "At X0, 0 variables are exactly at the bounds\n",
      "At iterate     0  f=          237  |proj g|=   1.8375e-05\n",
      "At iterate     1  f =          237  |proj g|=    1.8375e-05\n",
      "\n",
      "iterations 1\n",
      "function evaluations 2\n",
      "segments explored during Cauchy searches 1\n",
      "BFGS updates skipped 0\n",
      "active bounds at final generalized Cauchy point 0\n",
      "norm of the final projected gradient 1.83749e-05\n",
      "final function value 236.999\n",
      "\n",
      "F = 236.999\n",
      "final  value 236.998947 \n",
      "converged\n"
     ]
    },
    {
     "name": "stderr",
     "output_type": "stream",
     "text": [
      "[mbo] 12: x=-1.6 : y = 1.86e+04 : 0.0 secs : infill_ei\n",
      "\n"
     ]
    },
    {
     "name": "stdout",
     "output_type": "stream",
     "text": [
      "\n",
      "optimisation start\n",
      "------------------\n",
      "* estimation method   : MLE \n",
      "* optimisation method : BFGS \n",
      "* analytical gradient : used\n",
      "* trend model : ~1\n",
      "* covariance model : \n",
      "  - type :  matern3_2 \n",
      "  - nugget : NO\n",
      "  - parameters lower bounds :  1e-10 \n",
      "  - parameters upper bounds :  271.4306 \n",
      "  - best initial criterion value(s) :  -250.02 \n",
      "\n",
      "N = 1, M = 5 machine precision = 2.22045e-16\n",
      "At X0, 0 variables are exactly at the bounds\n",
      "At iterate     0  f=       250.02  |proj g|=   0.00070783\n",
      "At iterate     1  f =       250.02  |proj g|=    0.00070781\n",
      "\n",
      "iterations 1\n",
      "function evaluations 2\n",
      "segments explored during Cauchy searches 1\n",
      "BFGS updates skipped 0\n",
      "active bounds at final generalized Cauchy point 0\n",
      "norm of the final projected gradient 0.000707811\n",
      "final function value 250.02\n",
      "\n",
      "F = 250.02\n",
      "final  value 250.020027 \n",
      "converged\n"
     ]
    },
    {
     "name": "stderr",
     "output_type": "stream",
     "text": [
      "[mbo] 13: x=-15.3 : y = -6.29e+04 : 0.0 secs : infill_ei\n",
      "\n"
     ]
    },
    {
     "name": "stdout",
     "output_type": "stream",
     "text": [
      "\n",
      "optimisation start\n",
      "------------------\n",
      "* estimation method   : MLE \n",
      "* optimisation method : BFGS \n",
      "* analytical gradient : used\n",
      "* trend model : ~1\n",
      "* covariance model : \n",
      "  - type :  matern3_2 \n",
      "  - nugget : NO\n",
      "  - parameters lower bounds :  1e-10 \n",
      "  - parameters upper bounds :  271.4306 \n",
      "  - best initial criterion value(s) :  -263.4704 \n",
      "\n",
      "N = 1, M = 5 machine precision = 2.22045e-16\n",
      "At X0, 0 variables are exactly at the bounds\n",
      "At iterate     0  f=       263.47  |proj g|=     0.001549\n",
      "At iterate     1  f =       263.47  |proj g|=      0.001549\n",
      "At iterate     2  f =       263.46  |proj g|=             0\n",
      "\n",
      "iterations 2\n",
      "function evaluations 3\n",
      "segments explored during Cauchy searches 2\n",
      "BFGS updates skipped 0\n",
      "active bounds at final generalized Cauchy point 1\n",
      "norm of the final projected gradient 0\n",
      "final function value 263.459\n",
      "\n",
      "F = 263.459\n",
      "final  value 263.459374 \n",
      "converged\n"
     ]
    },
    {
     "name": "stderr",
     "output_type": "stream",
     "text": [
      "[mbo] 14: x=-6.66 : y = 4.29e+04 : 0.0 secs : infill_ei\n",
      "\n"
     ]
    },
    {
     "name": "stdout",
     "output_type": "stream",
     "text": [
      "\n",
      "optimisation start\n",
      "------------------\n",
      "* estimation method   : MLE \n",
      "* optimisation method : BFGS \n",
      "* analytical gradient : used\n",
      "* trend model : ~1\n",
      "* covariance model : \n",
      "  - type :  matern3_2 \n",
      "  - nugget : NO\n",
      "  - parameters lower bounds :  1e-10 \n",
      "  - parameters upper bounds :  271.4306 \n",
      "  - best initial criterion value(s) :  -275.5117 \n",
      "\n",
      "N = 1, M = 5 machine precision = 2.22045e-16\n",
      "At X0, 0 variables are exactly at the bounds\n",
      "At iterate     0  f=       275.51  |proj g|=    0.0026761\n",
      "At iterate     1  f =       275.51  |proj g|=      0.002676\n",
      "At iterate     2  f =       275.47  |proj g|=             0\n",
      "\n",
      "iterations 2\n",
      "function evaluations 3\n",
      "segments explored during Cauchy searches 2\n",
      "BFGS updates skipped 0\n",
      "active bounds at final generalized Cauchy point 1\n",
      "norm of the final projected gradient 0\n",
      "final function value 275.473\n",
      "\n",
      "F = 275.473\n",
      "final  value 275.473445 \n",
      "converged\n"
     ]
    },
    {
     "name": "stderr",
     "output_type": "stream",
     "text": [
      "[mbo] 15: x=15.4 : y = 2.13e+04 : 0.0 secs : infill_ei\n",
      "\n"
     ]
    },
    {
     "name": "stdout",
     "output_type": "stream",
     "text": [
      "\n",
      "optimisation start\n",
      "------------------\n",
      "* estimation method   : MLE \n",
      "* optimisation method : BFGS \n",
      "* analytical gradient : used\n",
      "* trend model : ~1\n",
      "* covariance model : \n",
      "  - type :  matern3_2 \n",
      "  - nugget : NO\n",
      "  - parameters lower bounds :  1e-10 \n",
      "  - parameters upper bounds :  271.4306 \n",
      "  - best initial criterion value(s) :  -287.7268 \n",
      "\n",
      "N = 1, M = 5 machine precision = 2.22045e-16\n",
      "At X0, 0 variables are exactly at the bounds\n",
      "At iterate     0  f=       287.73  |proj g|=     0.002903\n",
      "At iterate     1  f =       287.73  |proj g|=     0.0029029\n",
      "At iterate     2  f =       287.71  |proj g|=             0\n",
      "\n",
      "iterations 2\n",
      "function evaluations 3\n",
      "segments explored during Cauchy searches 2\n",
      "BFGS updates skipped 0\n",
      "active bounds at final generalized Cauchy point 1\n",
      "norm of the final projected gradient 0\n",
      "final function value 287.708\n",
      "\n",
      "F = 287.708\n",
      "final  value 287.708237 \n",
      "converged\n"
     ]
    },
    {
     "name": "stderr",
     "output_type": "stream",
     "text": [
      "[mbo] 16: x=-9.86 : y = 3.93e+04 : 0.0 secs : infill_ei\n",
      "\n"
     ]
    },
    {
     "name": "stdout",
     "output_type": "stream",
     "text": [
      "\n",
      "optimisation start\n",
      "------------------\n",
      "* estimation method   : MLE \n",
      "* optimisation method : BFGS \n",
      "* analytical gradient : used\n",
      "* trend model : ~1\n",
      "* covariance model : \n",
      "  - type :  matern3_2 \n",
      "  - nugget : NO\n",
      "  - parameters lower bounds :  1e-10 \n",
      "  - parameters upper bounds :  271.4306 \n",
      "  - best initial criterion value(s) :  -299.5976 \n",
      "\n",
      "N = 1, M = 5 machine precision = 2.22045e-16\n",
      "At X0, 0 variables are exactly at the bounds\n",
      "At iterate     0  f=        299.6  |proj g|=    0.0037782\n",
      "At iterate     1  f =        299.6  |proj g|=      0.003778\n",
      "At iterate     2  f =       299.56  |proj g|=             0\n",
      "\n",
      "iterations 2\n",
      "function evaluations 3\n",
      "segments explored during Cauchy searches 2\n",
      "BFGS updates skipped 0\n",
      "active bounds at final generalized Cauchy point 1\n",
      "norm of the final projected gradient 0\n",
      "final function value 299.563\n",
      "\n",
      "F = 299.563\n",
      "final  value 299.562642 \n",
      "converged\n"
     ]
    },
    {
     "name": "stderr",
     "output_type": "stream",
     "text": [
      "[mbo] 17: x=11.5 : y = 1.39e+04 : 0.0 secs : infill_ei\n",
      "\n"
     ]
    },
    {
     "name": "stdout",
     "output_type": "stream",
     "text": [
      "\n",
      "optimisation start\n",
      "------------------\n",
      "* estimation method   : MLE \n",
      "* optimisation method : BFGS \n",
      "* analytical gradient : used\n",
      "* trend model : ~1\n",
      "* covariance model : \n",
      "  - type :  matern3_2 \n",
      "  - nugget : NO\n",
      "  - parameters lower bounds :  1e-10 \n",
      "  - parameters upper bounds :  271.4306 \n",
      "  - best initial criterion value(s) :  -311.6439 \n",
      "\n",
      "N = 1, M = 5 machine precision = 2.22045e-16\n",
      "At X0, 0 variables are exactly at the bounds\n",
      "At iterate     0  f=       311.64  |proj g|=    0.0040265\n",
      "At iterate     1  f =       311.64  |proj g|=     0.0040263\n",
      "At iterate     2  f =       311.64  |proj g|=             0\n",
      "\n",
      "iterations 2\n",
      "function evaluations 3\n",
      "segments explored during Cauchy searches 2\n",
      "BFGS updates skipped 0\n",
      "active bounds at final generalized Cauchy point 1\n",
      "norm of the final projected gradient 0\n",
      "final function value 311.636\n",
      "\n",
      "F = 311.636\n",
      "final  value 311.635695 \n",
      "converged\n"
     ]
    },
    {
     "name": "stderr",
     "output_type": "stream",
     "text": [
      "[mbo] 18: x=-3.31 : y = 2.81e+04 : 0.0 secs : infill_ei\n",
      "\n"
     ]
    },
    {
     "name": "stdout",
     "output_type": "stream",
     "text": [
      "\n",
      "optimisation start\n",
      "------------------\n",
      "* estimation method   : MLE \n",
      "* optimisation method : BFGS \n",
      "* analytical gradient : used\n",
      "* trend model : ~1\n",
      "* covariance model : \n",
      "  - type :  matern3_2 \n",
      "  - nugget : NO\n",
      "  - parameters lower bounds :  1e-10 \n",
      "  - parameters upper bounds :  271.4306 \n",
      "  - best initial criterion value(s) :  -323.456 \n",
      "\n",
      "N = 1, M = 5 machine precision = 2.22045e-16\n",
      "At X0, 0 variables are exactly at the bounds\n",
      "At iterate     0  f=       323.46  |proj g|=    0.0047829\n",
      "At iterate     1  f =       323.46  |proj g|=     0.0047826\n",
      "At iterate     2  f =       323.44  |proj g|=             0\n",
      "\n",
      "iterations 2\n",
      "function evaluations 3\n",
      "segments explored during Cauchy searches 2\n",
      "BFGS updates skipped 0\n",
      "active bounds at final generalized Cauchy point 1\n",
      "norm of the final projected gradient 0\n",
      "final function value 323.44\n",
      "\n",
      "F = 323.44\n",
      "final  value 323.440166 \n",
      "converged\n"
     ]
    },
    {
     "name": "stderr",
     "output_type": "stream",
     "text": [
      "[mbo] 19: x=0.175 : y = 9.57e+03 : 0.0 secs : infill_ei\n",
      "\n"
     ]
    },
    {
     "name": "stdout",
     "output_type": "stream",
     "text": [
      "\n",
      "optimisation start\n",
      "------------------\n",
      "* estimation method   : MLE \n",
      "* optimisation method : BFGS \n",
      "* analytical gradient : used\n",
      "* trend model : ~1\n",
      "* covariance model : \n",
      "  - type :  matern3_2 \n",
      "  - nugget : NO\n",
      "  - parameters lower bounds :  1e-10 \n",
      "  - parameters upper bounds :  271.4306 \n",
      "  - best initial criterion value(s) :  -335.4249 \n",
      "\n",
      "N = 1, M = 5 machine precision = 2.22045e-16\n",
      "At X0, 0 variables are exactly at the bounds\n",
      "At iterate     0  f=       335.42  |proj g|=    0.0061541\n",
      "At iterate     1  f =       335.42  |proj g|=     0.0061537\n",
      "At iterate     2  f =       335.35  |proj g|=             0\n",
      "\n",
      "iterations 2\n",
      "function evaluations 3\n",
      "segments explored during Cauchy searches 2\n",
      "BFGS updates skipped 0\n",
      "active bounds at final generalized Cauchy point 1\n",
      "norm of the final projected gradient 0\n",
      "final function value 335.351\n",
      "\n",
      "F = 335.351\n",
      "final  value 335.350833 \n",
      "converged\n"
     ]
    },
    {
     "name": "stderr",
     "output_type": "stream",
     "text": [
      "[mbo] 20: x=7.58 : y = 1.26e+03 : 0.0 secs : infill_ei\n",
      "\n"
     ]
    },
    {
     "name": "stdout",
     "output_type": "stream",
     "text": [
      "\n",
      "optimisation start\n",
      "------------------\n",
      "* estimation method   : MLE \n",
      "* optimisation method : BFGS \n",
      "* analytical gradient : used\n",
      "* trend model : ~1\n",
      "* covariance model : \n",
      "  - type :  matern3_2 \n",
      "  - nugget : NO\n",
      "  - parameters lower bounds :  1e-10 \n",
      "  - parameters upper bounds :  271.4306 \n",
      "  - best initial criterion value(s) :  -347.4002 \n",
      "\n",
      "N = 1, M = 5 machine precision = 2.22045e-16\n",
      "At X0, 0 variables are exactly at the bounds\n",
      "At iterate     0  f=        347.4  |proj g|=    0.0068119\n",
      "At iterate     1  f =        347.4  |proj g|=     0.0068113\n",
      "At iterate     2  f =       347.32  |proj g|=             0\n",
      "\n",
      "iterations 2\n",
      "function evaluations 3\n",
      "segments explored during Cauchy searches 2\n",
      "BFGS updates skipped 0\n",
      "active bounds at final generalized Cauchy point 1\n",
      "norm of the final projected gradient 0\n",
      "final function value 347.323\n",
      "\n",
      "F = 347.323\n",
      "final  value 347.323349 \n",
      "converged\n"
     ]
    },
    {
     "name": "stderr",
     "output_type": "stream",
     "text": [
      "[mbo] 21: x=-7.5 : y = 4.44e+04 : 0.0 secs : infill_ei\n",
      "\n"
     ]
    },
    {
     "name": "stdout",
     "output_type": "stream",
     "text": [
      "\n",
      "optimisation start\n",
      "------------------\n",
      "* estimation method   : MLE \n",
      "* optimisation method : BFGS \n",
      "* analytical gradient : used\n",
      "* trend model : ~1\n",
      "* covariance model : \n",
      "  - type :  matern3_2 \n",
      "  - nugget : NO\n",
      "  - parameters lower bounds :  1e-10 \n",
      "  - parameters upper bounds :  271.4306 \n",
      "  - best initial criterion value(s) :  -358.0816 \n",
      "\n",
      "N = 1, M = 5 machine precision = 2.22045e-16\n",
      "At X0, 0 variables are exactly at the bounds\n",
      "At iterate     0  f=       358.08  |proj g|=     0.006606\n",
      "At iterate     1  f =       358.08  |proj g|=     0.0066055\n",
      "At iterate     2  f =       358.08  |proj g|=             0\n",
      "\n",
      "iterations 2\n",
      "function evaluations 3\n",
      "segments explored during Cauchy searches 2\n",
      "BFGS updates skipped 0\n",
      "active bounds at final generalized Cauchy point 1\n",
      "norm of the final projected gradient 0\n",
      "final function value 358.078\n",
      "\n",
      "F = 358.078\n",
      "final  value 358.078441 \n",
      "converged\n"
     ]
    },
    {
     "name": "stderr",
     "output_type": "stream",
     "text": [
      "[mbo] 22: x=-13.2 : y = -3.26e+03 : 0.0 secs : infill_ei\n",
      "\n"
     ]
    },
    {
     "name": "stdout",
     "output_type": "stream",
     "text": [
      "\n",
      "optimisation start\n",
      "------------------\n",
      "* estimation method   : MLE \n",
      "* optimisation method : BFGS \n",
      "* analytical gradient : used\n",
      "* trend model : ~1\n",
      "* covariance model : \n",
      "  - type :  matern3_2 \n",
      "  - nugget : NO\n",
      "  - parameters lower bounds :  1e-10 \n",
      "  - parameters upper bounds :  271.4306 \n",
      "  - best initial criterion value(s) :  -370.0575 \n",
      "\n",
      "N = 1, M = 5 machine precision = 2.22045e-16\n",
      "At X0, 0 variables are exactly at the bounds\n",
      "At iterate     0  f=       370.06  |proj g|=     0.008495\n",
      "At iterate     1  f =       370.06  |proj g|=     0.0084942\n",
      "At iterate     2  f =       369.94  |proj g|=             0\n",
      "\n",
      "iterations 2\n",
      "function evaluations 3\n",
      "segments explored during Cauchy searches 2\n",
      "BFGS updates skipped 0\n",
      "active bounds at final generalized Cauchy point 1\n",
      "norm of the final projected gradient 0\n",
      "final function value 369.943\n",
      "\n",
      "F = 369.943\n",
      "final  value 369.943240 \n",
      "converged\n"
     ]
    },
    {
     "name": "stderr",
     "output_type": "stream",
     "text": [
      "[mbo] 23: x=3.82 : y = -1.34e+03 : 0.0 secs : infill_ei\n",
      "\n"
     ]
    },
    {
     "name": "stdout",
     "output_type": "stream",
     "text": [
      "\n",
      "optimisation start\n",
      "------------------\n",
      "* estimation method   : MLE \n",
      "* optimisation method : BFGS \n",
      "* analytical gradient : used\n",
      "* trend model : ~1\n",
      "* covariance model : \n",
      "  - type :  matern3_2 \n",
      "  - nugget : NO\n",
      "  - parameters lower bounds :  1e-10 \n",
      "  - parameters upper bounds :  271.4306 \n",
      "  - best initial criterion value(s) :  -381.8152 \n",
      "\n",
      "N = 1, M = 5 machine precision = 2.22045e-16\n",
      "At X0, 0 variables are exactly at the bounds\n",
      "At iterate     0  f=       381.82  |proj g|=    0.0085786\n",
      "At iterate     1  f =       381.82  |proj g|=     0.0085778\n",
      "At iterate     2  f =       381.75  |proj g|=             0\n",
      "\n",
      "iterations 2\n",
      "function evaluations 3\n",
      "segments explored during Cauchy searches 2\n",
      "BFGS updates skipped 0\n",
      "active bounds at final generalized Cauchy point 1\n",
      "norm of the final projected gradient 0\n",
      "final function value 381.752\n",
      "\n",
      "F = 381.752\n",
      "final  value 381.751526 \n",
      "converged\n"
     ]
    },
    {
     "name": "stderr",
     "output_type": "stream",
     "text": [
      "[mbo] 24: x=-5.82 : y = 4.03e+04 : 0.0 secs : infill_ei\n",
      "\n"
     ]
    },
    {
     "name": "stdout",
     "output_type": "stream",
     "text": [
      "\n",
      "optimisation start\n",
      "------------------\n",
      "* estimation method   : MLE \n",
      "* optimisation method : BFGS \n",
      "* analytical gradient : used\n",
      "* trend model : ~1\n",
      "* covariance model : \n",
      "  - type :  matern3_2 \n",
      "  - nugget : NO\n",
      "  - parameters lower bounds :  1e-10 \n",
      "  - parameters upper bounds :  271.4306 \n",
      "  - best initial criterion value(s) :  -392.5944 \n",
      "\n",
      "N = 1, M = 5 machine precision = 2.22045e-16\n",
      "At X0, 0 variables are exactly at the bounds\n",
      "At iterate     0  f=       392.59  |proj g|=    0.0097122\n",
      "At iterate     1  f =       392.59  |proj g|=     0.0097112\n",
      "At iterate     2  f =       392.48  |proj g|=             0\n",
      "\n",
      "iterations 2\n",
      "function evaluations 3\n",
      "segments explored during Cauchy searches 2\n",
      "BFGS updates skipped 0\n",
      "active bounds at final generalized Cauchy point 1\n",
      "norm of the final projected gradient 0\n",
      "final function value 392.485\n",
      "\n",
      "F = 392.485\n",
      "final  value 392.484695 \n",
      "converged\n"
     ]
    },
    {
     "name": "stderr",
     "output_type": "stream",
     "text": [
      "[mbo] 25: x=-9.05 : y = 4.29e+04 : 0.0 secs : infill_ei\n",
      "\n"
     ]
    },
    {
     "name": "stdout",
     "output_type": "stream",
     "text": [
      "\n",
      "optimisation start\n",
      "------------------\n",
      "* estimation method   : MLE \n",
      "* optimisation method : BFGS \n",
      "* analytical gradient : used\n",
      "* trend model : ~1\n",
      "* covariance model : \n",
      "  - type :  matern3_2 \n",
      "  - nugget : NO\n",
      "  - parameters lower bounds :  1e-10 \n",
      "  - parameters upper bounds :  271.4306 \n",
      "  - best initial criterion value(s) :  -403.2466 \n",
      "\n",
      "N = 1, M = 5 machine precision = 2.22045e-16\n",
      "At X0, 0 variables are exactly at the bounds\n",
      "At iterate     0  f=       403.25  |proj g|=     0.011506\n",
      "At iterate     1  f =       403.25  |proj g|=      0.011505\n",
      "At iterate     2  f =       403.03  |proj g|=             0\n",
      "\n",
      "iterations 2\n",
      "function evaluations 3\n",
      "segments explored during Cauchy searches 2\n",
      "BFGS updates skipped 0\n",
      "active bounds at final generalized Cauchy point 1\n",
      "norm of the final projected gradient 0\n",
      "final function value 403.027\n",
      "\n",
      "F = 403.027\n",
      "final  value 403.026611 \n",
      "converged\n"
     ]
    }
   ],
   "source": [
    "run  <- mbo( fun=      obj.fun, \n",
    "             learner= fproxy, \n",
    "             control= ctrl )"
   ]
  },
  {
   "cell_type": "code",
   "execution_count": 24,
   "metadata": {
    "tags": [],
    "vscode": {
     "languageId": "r"
    }
   },
   "outputs": [],
   "source": [
    "tb_resultados  <- as.data.table( run$opt.path )"
   ]
  },
  {
   "cell_type": "code",
   "execution_count": 25,
   "metadata": {
    "tags": [],
    "vscode": {
     "languageId": "r"
    }
   },
   "outputs": [
    {
     "data": {
      "text/html": [
       "<table class=\"dataframe\">\n",
       "<caption>A data.table: 29 × 13</caption>\n",
       "<thead>\n",
       "\t<tr><th scope=col>x</th><th scope=col>y</th><th scope=col>dob</th><th scope=col>eol</th><th scope=col>error.message</th><th scope=col>exec.time</th><th scope=col>ei</th><th scope=col>error.model</th><th scope=col>train.time</th><th scope=col>prop.type</th><th scope=col>propose.time</th><th scope=col>se</th><th scope=col>mean</th></tr>\n",
       "\t<tr><th scope=col>&lt;dbl&gt;</th><th scope=col>&lt;dbl&gt;</th><th scope=col>&lt;int&gt;</th><th scope=col>&lt;int&gt;</th><th scope=col>&lt;chr&gt;</th><th scope=col>&lt;dbl&gt;</th><th scope=col>&lt;dbl&gt;</th><th scope=col>&lt;chr&gt;</th><th scope=col>&lt;dbl&gt;</th><th scope=col>&lt;chr&gt;</th><th scope=col>&lt;dbl&gt;</th><th scope=col>&lt;dbl&gt;</th><th scope=col>&lt;dbl&gt;</th></tr>\n",
       "</thead>\n",
       "<tbody>\n",
       "\t<tr><td> 66.1277444</td><td>-27838576.125</td><td> 0</td><td>NA</td><td>NA</td><td>0</td><td>          NA</td><td>NA</td><td>  NA</td><td>initdesign</td><td>  NA</td><td>         NA</td><td>           NA</td></tr>\n",
       "\t<tr><td>-69.5875605</td><td>-55737071.551</td><td> 0</td><td>NA</td><td>NA</td><td>0</td><td>          NA</td><td>NA</td><td>  NA</td><td>initdesign</td><td>  NA</td><td>         NA</td><td>           NA</td></tr>\n",
       "\t<tr><td> 19.9029157</td><td>   -12958.690</td><td> 0</td><td>NA</td><td>NA</td><td>0</td><td>          NA</td><td>NA</td><td>  NA</td><td>initdesign</td><td>  NA</td><td>         NA</td><td>           NA</td></tr>\n",
       "\t<tr><td>-31.5926624</td><td> -2511584.791</td><td> 0</td><td>NA</td><td>NA</td><td>0</td><td>          NA</td><td>NA</td><td>  NA</td><td>initdesign</td><td>  NA</td><td>         NA</td><td>           NA</td></tr>\n",
       "\t<tr><td> 17.5310211</td><td>    13726.301</td><td> 1</td><td>NA</td><td>NA</td><td>0</td><td>-3722671.010</td><td>NA</td><td>0.06</td><td>infill_ei </td><td>0.22</td><td>16991730.79</td><td>-7379587.5059</td></tr>\n",
       "\t<tr><td>-11.6000271</td><td>    23266.908</td><td> 2</td><td>NA</td><td>NA</td><td>0</td><td>-5573620.819</td><td>NA</td><td>0.03</td><td>infill_ei </td><td>0.25</td><td>13832197.03</td><td>  124119.9993</td></tr>\n",
       "\t<tr><td>-21.2887764</td><td>  -458906.598</td><td> 3</td><td>NA</td><td>NA</td><td>0</td><td>-1815941.487</td><td>NA</td><td>0.00</td><td>infill_ei </td><td>0.28</td><td> 3472875.61</td><td>  812880.4256</td></tr>\n",
       "\t<tr><td>  2.0063021</td><td>     2530.861</td><td> 4</td><td>NA</td><td>NA</td><td>0</td><td>-1321999.623</td><td>NA</td><td>0.03</td><td>infill_ei </td><td>0.38</td><td> 3200749.55</td><td>  112446.3057</td></tr>\n",
       "\t<tr><td> -4.8829793</td><td>    36318.749</td><td> 5</td><td>NA</td><td>NA</td><td>0</td><td> -428781.207</td><td>NA</td><td>0.00</td><td>infill_ei </td><td>0.27</td><td>  998045.82</td><td>   83074.6013</td></tr>\n",
       "\t<tr><td>  9.4929164</td><td>     6922.622</td><td> 6</td><td>NA</td><td>NA</td><td>0</td><td> -328626.083</td><td>NA</td><td>0.02</td><td>infill_ei </td><td>0.18</td><td>  880566.57</td><td>   -9990.9395</td></tr>\n",
       "\t<tr><td> 28.6621425</td><td>  -447547.729</td><td> 7</td><td>NA</td><td>NA</td><td>0</td><td> -144048.843</td><td>NA</td><td>0.04</td><td>infill_ei </td><td>0.21</td><td> 1877670.83</td><td>-1922054.2385</td></tr>\n",
       "\t<tr><td> 24.1269022</td><td>  -137748.979</td><td> 8</td><td>NA</td><td>NA</td><td>0</td><td> -116678.088</td><td>NA</td><td>0.03</td><td>infill_ei </td><td>0.28</td><td>  370545.76</td><td>  -30817.2364</td></tr>\n",
       "\t<tr><td> -8.3059770</td><td>    44361.077</td><td> 9</td><td>NA</td><td>NA</td><td>0</td><td> -107005.548</td><td>NA</td><td>0.01</td><td>infill_ei </td><td>0.24</td><td>  244383.77</td><td>   54783.4938</td></tr>\n",
       "\t<tr><td> 13.3757159</td><td>    19626.756</td><td>10</td><td>NA</td><td>NA</td><td>0</td><td>  -91407.903</td><td>NA</td><td>0.02</td><td>infill_ei </td><td>0.28</td><td>  259567.89</td><td>   19090.9892</td></tr>\n",
       "\t<tr><td>  5.6800857</td><td>    -1760.373</td><td>11</td><td>NA</td><td>NA</td><td>0</td><td>  -70355.397</td><td>NA</td><td>0.01</td><td>infill_ei </td><td>0.22</td><td>  229229.77</td><td>   -1470.5894</td></tr>\n",
       "\t<tr><td> -1.6017597</td><td>    18590.170</td><td>12</td><td>NA</td><td>NA</td><td>0</td><td>  -61299.870</td><td>NA</td><td>0.01</td><td>infill_ei </td><td>0.28</td><td>  183015.62</td><td>   19601.1606</td></tr>\n",
       "\t<tr><td>-15.2578792</td><td>   -62867.368</td><td>13</td><td>NA</td><td>NA</td><td>0</td><td>  -51605.543</td><td>NA</td><td>0.01</td><td>infill_ei </td><td>0.21</td><td>  276212.57</td><td> -103766.5596</td></tr>\n",
       "\t<tr><td> -6.6609359</td><td>    42936.564</td><td>14</td><td>NA</td><td>NA</td><td>0</td><td>  -26073.352</td><td>NA</td><td>0.02</td><td>infill_ei </td><td>0.28</td><td>   66806.12</td><td>   43196.1054</td></tr>\n",
       "\t<tr><td> 15.3859433</td><td>    21311.268</td><td>15</td><td>NA</td><td>NA</td><td>0</td><td>  -22759.279</td><td>NA</td><td>0.01</td><td>infill_ei </td><td>0.24</td><td>   83239.20</td><td>   20827.5639</td></tr>\n",
       "\t<tr><td> -9.8639569</td><td>    39273.711</td><td>16</td><td>NA</td><td>NA</td><td>0</td><td>  -19903.372</td><td>NA</td><td>0.01</td><td>infill_ei </td><td>0.30</td><td>   56858.36</td><td>   38565.9872</td></tr>\n",
       "\t<tr><td> 11.4575383</td><td>    13908.968</td><td>17</td><td>NA</td><td>NA</td><td>0</td><td>  -15562.496</td><td>NA</td><td>0.02</td><td>infill_ei </td><td>0.22</td><td>   70714.87</td><td>   13912.8342</td></tr>\n",
       "\t<tr><td> -3.3123451</td><td>    28141.163</td><td>18</td><td>NA</td><td>NA</td><td>0</td><td>  -14413.275</td><td>NA</td><td>0.02</td><td>infill_ei </td><td>0.31</td><td>   54027.69</td><td>   28154.8130</td></tr>\n",
       "\t<tr><td>  0.1746619</td><td>     9565.482</td><td>19</td><td>NA</td><td>NA</td><td>0</td><td>  -10479.452</td><td>NA</td><td>0.01</td><td>infill_ei </td><td>0.22</td><td>   60049.47</td><td>    9594.1062</td></tr>\n",
       "\t<tr><td>  7.5834238</td><td>     1256.775</td><td>20</td><td>NA</td><td>NA</td><td>0</td><td>   -9522.083</td><td>NA</td><td>0.07</td><td>infill_ei </td><td>0.28</td><td>   63850.04</td><td>    1289.2201</td></tr>\n",
       "\t<tr><td> -7.4995022</td><td>    44380.430</td><td>21</td><td>NA</td><td>NA</td><td>0</td><td>   -7536.346</td><td>NA</td><td>0.01</td><td>infill_ei </td><td>0.28</td><td>   18890.75</td><td>   44361.1312</td></tr>\n",
       "\t<tr><td>-13.1555293</td><td>    -3256.967</td><td>22</td><td>NA</td><td>NA</td><td>0</td><td>   -7093.165</td><td>NA</td><td>0.03</td><td>infill_ei </td><td>0.25</td><td>   57205.77</td><td>    -373.9618</td></tr>\n",
       "\t<tr><td>  3.8232482</td><td>    -1335.466</td><td>23</td><td>NA</td><td>NA</td><td>0</td><td>   -6014.172</td><td>NA</td><td>0.01</td><td>infill_ei </td><td>0.31</td><td>   54113.61</td><td>   -1297.6904</td></tr>\n",
       "\t<tr><td> -5.8191994</td><td>    40297.741</td><td>24</td><td>NA</td><td>NA</td><td>0</td><td>   -5503.537</td><td>NA</td><td>0.03</td><td>infill_ei </td><td>0.24</td><td>   18460.29</td><td>   40299.9540</td></tr>\n",
       "\t<tr><td> -9.0450064</td><td>    42872.445</td><td>25</td><td>NA</td><td>NA</td><td>0</td><td>   -5349.831</td><td>NA</td><td>0.03</td><td>infill_ei </td><td>0.28</td><td>   15241.86</td><td>   42858.2485</td></tr>\n",
       "</tbody>\n",
       "</table>\n"
      ],
      "text/latex": [
       "A data.table: 29 × 13\n",
       "\\begin{tabular}{lllllllllllll}\n",
       " x & y & dob & eol & error.message & exec.time & ei & error.model & train.time & prop.type & propose.time & se & mean\\\\\n",
       " <dbl> & <dbl> & <int> & <int> & <chr> & <dbl> & <dbl> & <chr> & <dbl> & <chr> & <dbl> & <dbl> & <dbl>\\\\\n",
       "\\hline\n",
       "\t  66.1277444 & -27838576.125 &  0 & NA & NA & 0 &           NA & NA &   NA & initdesign &   NA &          NA &            NA\\\\\n",
       "\t -69.5875605 & -55737071.551 &  0 & NA & NA & 0 &           NA & NA &   NA & initdesign &   NA &          NA &            NA\\\\\n",
       "\t  19.9029157 &    -12958.690 &  0 & NA & NA & 0 &           NA & NA &   NA & initdesign &   NA &          NA &            NA\\\\\n",
       "\t -31.5926624 &  -2511584.791 &  0 & NA & NA & 0 &           NA & NA &   NA & initdesign &   NA &          NA &            NA\\\\\n",
       "\t  17.5310211 &     13726.301 &  1 & NA & NA & 0 & -3722671.010 & NA & 0.06 & infill\\_ei  & 0.22 & 16991730.79 & -7379587.5059\\\\\n",
       "\t -11.6000271 &     23266.908 &  2 & NA & NA & 0 & -5573620.819 & NA & 0.03 & infill\\_ei  & 0.25 & 13832197.03 &   124119.9993\\\\\n",
       "\t -21.2887764 &   -458906.598 &  3 & NA & NA & 0 & -1815941.487 & NA & 0.00 & infill\\_ei  & 0.28 &  3472875.61 &   812880.4256\\\\\n",
       "\t   2.0063021 &      2530.861 &  4 & NA & NA & 0 & -1321999.623 & NA & 0.03 & infill\\_ei  & 0.38 &  3200749.55 &   112446.3057\\\\\n",
       "\t  -4.8829793 &     36318.749 &  5 & NA & NA & 0 &  -428781.207 & NA & 0.00 & infill\\_ei  & 0.27 &   998045.82 &    83074.6013\\\\\n",
       "\t   9.4929164 &      6922.622 &  6 & NA & NA & 0 &  -328626.083 & NA & 0.02 & infill\\_ei  & 0.18 &   880566.57 &    -9990.9395\\\\\n",
       "\t  28.6621425 &   -447547.729 &  7 & NA & NA & 0 &  -144048.843 & NA & 0.04 & infill\\_ei  & 0.21 &  1877670.83 & -1922054.2385\\\\\n",
       "\t  24.1269022 &   -137748.979 &  8 & NA & NA & 0 &  -116678.088 & NA & 0.03 & infill\\_ei  & 0.28 &   370545.76 &   -30817.2364\\\\\n",
       "\t  -8.3059770 &     44361.077 &  9 & NA & NA & 0 &  -107005.548 & NA & 0.01 & infill\\_ei  & 0.24 &   244383.77 &    54783.4938\\\\\n",
       "\t  13.3757159 &     19626.756 & 10 & NA & NA & 0 &   -91407.903 & NA & 0.02 & infill\\_ei  & 0.28 &   259567.89 &    19090.9892\\\\\n",
       "\t   5.6800857 &     -1760.373 & 11 & NA & NA & 0 &   -70355.397 & NA & 0.01 & infill\\_ei  & 0.22 &   229229.77 &    -1470.5894\\\\\n",
       "\t  -1.6017597 &     18590.170 & 12 & NA & NA & 0 &   -61299.870 & NA & 0.01 & infill\\_ei  & 0.28 &   183015.62 &    19601.1606\\\\\n",
       "\t -15.2578792 &    -62867.368 & 13 & NA & NA & 0 &   -51605.543 & NA & 0.01 & infill\\_ei  & 0.21 &   276212.57 &  -103766.5596\\\\\n",
       "\t  -6.6609359 &     42936.564 & 14 & NA & NA & 0 &   -26073.352 & NA & 0.02 & infill\\_ei  & 0.28 &    66806.12 &    43196.1054\\\\\n",
       "\t  15.3859433 &     21311.268 & 15 & NA & NA & 0 &   -22759.279 & NA & 0.01 & infill\\_ei  & 0.24 &    83239.20 &    20827.5639\\\\\n",
       "\t  -9.8639569 &     39273.711 & 16 & NA & NA & 0 &   -19903.372 & NA & 0.01 & infill\\_ei  & 0.30 &    56858.36 &    38565.9872\\\\\n",
       "\t  11.4575383 &     13908.968 & 17 & NA & NA & 0 &   -15562.496 & NA & 0.02 & infill\\_ei  & 0.22 &    70714.87 &    13912.8342\\\\\n",
       "\t  -3.3123451 &     28141.163 & 18 & NA & NA & 0 &   -14413.275 & NA & 0.02 & infill\\_ei  & 0.31 &    54027.69 &    28154.8130\\\\\n",
       "\t   0.1746619 &      9565.482 & 19 & NA & NA & 0 &   -10479.452 & NA & 0.01 & infill\\_ei  & 0.22 &    60049.47 &     9594.1062\\\\\n",
       "\t   7.5834238 &      1256.775 & 20 & NA & NA & 0 &    -9522.083 & NA & 0.07 & infill\\_ei  & 0.28 &    63850.04 &     1289.2201\\\\\n",
       "\t  -7.4995022 &     44380.430 & 21 & NA & NA & 0 &    -7536.346 & NA & 0.01 & infill\\_ei  & 0.28 &    18890.75 &    44361.1312\\\\\n",
       "\t -13.1555293 &     -3256.967 & 22 & NA & NA & 0 &    -7093.165 & NA & 0.03 & infill\\_ei  & 0.25 &    57205.77 &     -373.9618\\\\\n",
       "\t   3.8232482 &     -1335.466 & 23 & NA & NA & 0 &    -6014.172 & NA & 0.01 & infill\\_ei  & 0.31 &    54113.61 &    -1297.6904\\\\\n",
       "\t  -5.8191994 &     40297.741 & 24 & NA & NA & 0 &    -5503.537 & NA & 0.03 & infill\\_ei  & 0.24 &    18460.29 &    40299.9540\\\\\n",
       "\t  -9.0450064 &     42872.445 & 25 & NA & NA & 0 &    -5349.831 & NA & 0.03 & infill\\_ei  & 0.28 &    15241.86 &    42858.2485\\\\\n",
       "\\end{tabular}\n"
      ],
      "text/markdown": [
       "\n",
       "A data.table: 29 × 13\n",
       "\n",
       "| x &lt;dbl&gt; | y &lt;dbl&gt; | dob &lt;int&gt; | eol &lt;int&gt; | error.message &lt;chr&gt; | exec.time &lt;dbl&gt; | ei &lt;dbl&gt; | error.model &lt;chr&gt; | train.time &lt;dbl&gt; | prop.type &lt;chr&gt; | propose.time &lt;dbl&gt; | se &lt;dbl&gt; | mean &lt;dbl&gt; |\n",
       "|---|---|---|---|---|---|---|---|---|---|---|---|---|\n",
       "|  66.1277444 | -27838576.125 |  0 | NA | NA | 0 |           NA | NA |   NA | initdesign |   NA |          NA |            NA |\n",
       "| -69.5875605 | -55737071.551 |  0 | NA | NA | 0 |           NA | NA |   NA | initdesign |   NA |          NA |            NA |\n",
       "|  19.9029157 |    -12958.690 |  0 | NA | NA | 0 |           NA | NA |   NA | initdesign |   NA |          NA |            NA |\n",
       "| -31.5926624 |  -2511584.791 |  0 | NA | NA | 0 |           NA | NA |   NA | initdesign |   NA |          NA |            NA |\n",
       "|  17.5310211 |     13726.301 |  1 | NA | NA | 0 | -3722671.010 | NA | 0.06 | infill_ei  | 0.22 | 16991730.79 | -7379587.5059 |\n",
       "| -11.6000271 |     23266.908 |  2 | NA | NA | 0 | -5573620.819 | NA | 0.03 | infill_ei  | 0.25 | 13832197.03 |   124119.9993 |\n",
       "| -21.2887764 |   -458906.598 |  3 | NA | NA | 0 | -1815941.487 | NA | 0.00 | infill_ei  | 0.28 |  3472875.61 |   812880.4256 |\n",
       "|   2.0063021 |      2530.861 |  4 | NA | NA | 0 | -1321999.623 | NA | 0.03 | infill_ei  | 0.38 |  3200749.55 |   112446.3057 |\n",
       "|  -4.8829793 |     36318.749 |  5 | NA | NA | 0 |  -428781.207 | NA | 0.00 | infill_ei  | 0.27 |   998045.82 |    83074.6013 |\n",
       "|   9.4929164 |      6922.622 |  6 | NA | NA | 0 |  -328626.083 | NA | 0.02 | infill_ei  | 0.18 |   880566.57 |    -9990.9395 |\n",
       "|  28.6621425 |   -447547.729 |  7 | NA | NA | 0 |  -144048.843 | NA | 0.04 | infill_ei  | 0.21 |  1877670.83 | -1922054.2385 |\n",
       "|  24.1269022 |   -137748.979 |  8 | NA | NA | 0 |  -116678.088 | NA | 0.03 | infill_ei  | 0.28 |   370545.76 |   -30817.2364 |\n",
       "|  -8.3059770 |     44361.077 |  9 | NA | NA | 0 |  -107005.548 | NA | 0.01 | infill_ei  | 0.24 |   244383.77 |    54783.4938 |\n",
       "|  13.3757159 |     19626.756 | 10 | NA | NA | 0 |   -91407.903 | NA | 0.02 | infill_ei  | 0.28 |   259567.89 |    19090.9892 |\n",
       "|   5.6800857 |     -1760.373 | 11 | NA | NA | 0 |   -70355.397 | NA | 0.01 | infill_ei  | 0.22 |   229229.77 |    -1470.5894 |\n",
       "|  -1.6017597 |     18590.170 | 12 | NA | NA | 0 |   -61299.870 | NA | 0.01 | infill_ei  | 0.28 |   183015.62 |    19601.1606 |\n",
       "| -15.2578792 |    -62867.368 | 13 | NA | NA | 0 |   -51605.543 | NA | 0.01 | infill_ei  | 0.21 |   276212.57 |  -103766.5596 |\n",
       "|  -6.6609359 |     42936.564 | 14 | NA | NA | 0 |   -26073.352 | NA | 0.02 | infill_ei  | 0.28 |    66806.12 |    43196.1054 |\n",
       "|  15.3859433 |     21311.268 | 15 | NA | NA | 0 |   -22759.279 | NA | 0.01 | infill_ei  | 0.24 |    83239.20 |    20827.5639 |\n",
       "|  -9.8639569 |     39273.711 | 16 | NA | NA | 0 |   -19903.372 | NA | 0.01 | infill_ei  | 0.30 |    56858.36 |    38565.9872 |\n",
       "|  11.4575383 |     13908.968 | 17 | NA | NA | 0 |   -15562.496 | NA | 0.02 | infill_ei  | 0.22 |    70714.87 |    13912.8342 |\n",
       "|  -3.3123451 |     28141.163 | 18 | NA | NA | 0 |   -14413.275 | NA | 0.02 | infill_ei  | 0.31 |    54027.69 |    28154.8130 |\n",
       "|   0.1746619 |      9565.482 | 19 | NA | NA | 0 |   -10479.452 | NA | 0.01 | infill_ei  | 0.22 |    60049.47 |     9594.1062 |\n",
       "|   7.5834238 |      1256.775 | 20 | NA | NA | 0 |    -9522.083 | NA | 0.07 | infill_ei  | 0.28 |    63850.04 |     1289.2201 |\n",
       "|  -7.4995022 |     44380.430 | 21 | NA | NA | 0 |    -7536.346 | NA | 0.01 | infill_ei  | 0.28 |    18890.75 |    44361.1312 |\n",
       "| -13.1555293 |     -3256.967 | 22 | NA | NA | 0 |    -7093.165 | NA | 0.03 | infill_ei  | 0.25 |    57205.77 |     -373.9618 |\n",
       "|   3.8232482 |     -1335.466 | 23 | NA | NA | 0 |    -6014.172 | NA | 0.01 | infill_ei  | 0.31 |    54113.61 |    -1297.6904 |\n",
       "|  -5.8191994 |     40297.741 | 24 | NA | NA | 0 |    -5503.537 | NA | 0.03 | infill_ei  | 0.24 |    18460.29 |    40299.9540 |\n",
       "|  -9.0450064 |     42872.445 | 25 | NA | NA | 0 |    -5349.831 | NA | 0.03 | infill_ei  | 0.28 |    15241.86 |    42858.2485 |\n",
       "\n"
      ],
      "text/plain": [
       "   x           y             dob eol error.message exec.time ei          \n",
       "1   66.1277444 -27838576.125  0  NA  NA            0                   NA\n",
       "2  -69.5875605 -55737071.551  0  NA  NA            0                   NA\n",
       "3   19.9029157    -12958.690  0  NA  NA            0                   NA\n",
       "4  -31.5926624  -2511584.791  0  NA  NA            0                   NA\n",
       "5   17.5310211     13726.301  1  NA  NA            0         -3722671.010\n",
       "6  -11.6000271     23266.908  2  NA  NA            0         -5573620.819\n",
       "7  -21.2887764   -458906.598  3  NA  NA            0         -1815941.487\n",
       "8    2.0063021      2530.861  4  NA  NA            0         -1321999.623\n",
       "9   -4.8829793     36318.749  5  NA  NA            0          -428781.207\n",
       "10   9.4929164      6922.622  6  NA  NA            0          -328626.083\n",
       "11  28.6621425   -447547.729  7  NA  NA            0          -144048.843\n",
       "12  24.1269022   -137748.979  8  NA  NA            0          -116678.088\n",
       "13  -8.3059770     44361.077  9  NA  NA            0          -107005.548\n",
       "14  13.3757159     19626.756 10  NA  NA            0           -91407.903\n",
       "15   5.6800857     -1760.373 11  NA  NA            0           -70355.397\n",
       "16  -1.6017597     18590.170 12  NA  NA            0           -61299.870\n",
       "17 -15.2578792    -62867.368 13  NA  NA            0           -51605.543\n",
       "18  -6.6609359     42936.564 14  NA  NA            0           -26073.352\n",
       "19  15.3859433     21311.268 15  NA  NA            0           -22759.279\n",
       "20  -9.8639569     39273.711 16  NA  NA            0           -19903.372\n",
       "21  11.4575383     13908.968 17  NA  NA            0           -15562.496\n",
       "22  -3.3123451     28141.163 18  NA  NA            0           -14413.275\n",
       "23   0.1746619      9565.482 19  NA  NA            0           -10479.452\n",
       "24   7.5834238      1256.775 20  NA  NA            0            -9522.083\n",
       "25  -7.4995022     44380.430 21  NA  NA            0            -7536.346\n",
       "26 -13.1555293     -3256.967 22  NA  NA            0            -7093.165\n",
       "27   3.8232482     -1335.466 23  NA  NA            0            -6014.172\n",
       "28  -5.8191994     40297.741 24  NA  NA            0            -5503.537\n",
       "29  -9.0450064     42872.445 25  NA  NA            0            -5349.831\n",
       "   error.model train.time prop.type  propose.time se          mean         \n",
       "1  NA            NA       initdesign   NA                  NA            NA\n",
       "2  NA            NA       initdesign   NA                  NA            NA\n",
       "3  NA            NA       initdesign   NA                  NA            NA\n",
       "4  NA            NA       initdesign   NA                  NA            NA\n",
       "5  NA          0.06       infill_ei  0.22         16991730.79 -7379587.5059\n",
       "6  NA          0.03       infill_ei  0.25         13832197.03   124119.9993\n",
       "7  NA          0.00       infill_ei  0.28          3472875.61   812880.4256\n",
       "8  NA          0.03       infill_ei  0.38          3200749.55   112446.3057\n",
       "9  NA          0.00       infill_ei  0.27           998045.82    83074.6013\n",
       "10 NA          0.02       infill_ei  0.18           880566.57    -9990.9395\n",
       "11 NA          0.04       infill_ei  0.21          1877670.83 -1922054.2385\n",
       "12 NA          0.03       infill_ei  0.28           370545.76   -30817.2364\n",
       "13 NA          0.01       infill_ei  0.24           244383.77    54783.4938\n",
       "14 NA          0.02       infill_ei  0.28           259567.89    19090.9892\n",
       "15 NA          0.01       infill_ei  0.22           229229.77    -1470.5894\n",
       "16 NA          0.01       infill_ei  0.28           183015.62    19601.1606\n",
       "17 NA          0.01       infill_ei  0.21           276212.57  -103766.5596\n",
       "18 NA          0.02       infill_ei  0.28            66806.12    43196.1054\n",
       "19 NA          0.01       infill_ei  0.24            83239.20    20827.5639\n",
       "20 NA          0.01       infill_ei  0.30            56858.36    38565.9872\n",
       "21 NA          0.02       infill_ei  0.22            70714.87    13912.8342\n",
       "22 NA          0.02       infill_ei  0.31            54027.69    28154.8130\n",
       "23 NA          0.01       infill_ei  0.22            60049.47     9594.1062\n",
       "24 NA          0.07       infill_ei  0.28            63850.04     1289.2201\n",
       "25 NA          0.01       infill_ei  0.28            18890.75    44361.1312\n",
       "26 NA          0.03       infill_ei  0.25            57205.77     -373.9618\n",
       "27 NA          0.01       infill_ei  0.31            54113.61    -1297.6904\n",
       "28 NA          0.03       infill_ei  0.24            18460.29    40299.9540\n",
       "29 NA          0.03       infill_ei  0.28            15241.86    42858.2485"
      ]
     },
     "metadata": {},
     "output_type": "display_data"
    }
   ],
   "source": [
    "tb_resultados"
   ]
  },
  {
   "cell_type": "code",
   "execution_count": 26,
   "metadata": {
    "tags": [],
    "vscode": {
     "languageId": "r"
    }
   },
   "outputs": [
    {
     "data": {
      "text/html": [
       "<table class=\"dataframe\">\n",
       "<caption>A data.table: 1 × 13</caption>\n",
       "<thead>\n",
       "\t<tr><th scope=col>x</th><th scope=col>y</th><th scope=col>dob</th><th scope=col>eol</th><th scope=col>error.message</th><th scope=col>exec.time</th><th scope=col>ei</th><th scope=col>error.model</th><th scope=col>train.time</th><th scope=col>prop.type</th><th scope=col>propose.time</th><th scope=col>se</th><th scope=col>mean</th></tr>\n",
       "\t<tr><th scope=col>&lt;dbl&gt;</th><th scope=col>&lt;dbl&gt;</th><th scope=col>&lt;int&gt;</th><th scope=col>&lt;int&gt;</th><th scope=col>&lt;chr&gt;</th><th scope=col>&lt;dbl&gt;</th><th scope=col>&lt;dbl&gt;</th><th scope=col>&lt;chr&gt;</th><th scope=col>&lt;dbl&gt;</th><th scope=col>&lt;chr&gt;</th><th scope=col>&lt;dbl&gt;</th><th scope=col>&lt;dbl&gt;</th><th scope=col>&lt;dbl&gt;</th></tr>\n",
       "</thead>\n",
       "<tbody>\n",
       "\t<tr><td>-7.499502</td><td>44380.43</td><td>21</td><td>NA</td><td>NA</td><td>0</td><td>-7536.346</td><td>NA</td><td>0.01</td><td>infill_ei</td><td>0.28</td><td>18890.75</td><td>44361.13</td></tr>\n",
       "</tbody>\n",
       "</table>\n"
      ],
      "text/latex": [
       "A data.table: 1 × 13\n",
       "\\begin{tabular}{lllllllllllll}\n",
       " x & y & dob & eol & error.message & exec.time & ei & error.model & train.time & prop.type & propose.time & se & mean\\\\\n",
       " <dbl> & <dbl> & <int> & <int> & <chr> & <dbl> & <dbl> & <chr> & <dbl> & <chr> & <dbl> & <dbl> & <dbl>\\\\\n",
       "\\hline\n",
       "\t -7.499502 & 44380.43 & 21 & NA & NA & 0 & -7536.346 & NA & 0.01 & infill\\_ei & 0.28 & 18890.75 & 44361.13\\\\\n",
       "\\end{tabular}\n"
      ],
      "text/markdown": [
       "\n",
       "A data.table: 1 × 13\n",
       "\n",
       "| x &lt;dbl&gt; | y &lt;dbl&gt; | dob &lt;int&gt; | eol &lt;int&gt; | error.message &lt;chr&gt; | exec.time &lt;dbl&gt; | ei &lt;dbl&gt; | error.model &lt;chr&gt; | train.time &lt;dbl&gt; | prop.type &lt;chr&gt; | propose.time &lt;dbl&gt; | se &lt;dbl&gt; | mean &lt;dbl&gt; |\n",
       "|---|---|---|---|---|---|---|---|---|---|---|---|---|\n",
       "| -7.499502 | 44380.43 | 21 | NA | NA | 0 | -7536.346 | NA | 0.01 | infill_ei | 0.28 | 18890.75 | 44361.13 |\n",
       "\n"
      ],
      "text/plain": [
       "  x         y        dob eol error.message exec.time ei        error.model\n",
       "1 -7.499502 44380.43 21  NA  NA            0         -7536.346 NA         \n",
       "  train.time prop.type propose.time se       mean    \n",
       "1 0.01       infill_ei 0.28         18890.75 44361.13"
      ]
     },
     "metadata": {},
     "output_type": "display_data"
    }
   ],
   "source": [
    "tb_resultados[ which.max( tb_resultados$y ) ]"
   ]
  },
  {
   "cell_type": "markdown",
   "metadata": {},
   "source": [
    "### Conclusiones"
   ]
  },
  {
   "cell_type": "markdown",
   "metadata": {},
   "source": [
    "La gran pregunta es :  la Optimización Bayesiana, ¿se focaliza luego de muchas iteraciones solo en el entorno del máximo que está cerca de x= -8 ?"
   ]
  }
 ],
 "metadata": {
  "kernelspec": {
   "display_name": "R",
   "language": "R",
   "name": "ir"
  },
  "language_info": {
   "codemirror_mode": "r",
   "file_extension": ".r",
   "mimetype": "text/x-r-source",
   "name": "R",
   "pygments_lexer": "r",
   "version": "4.2.3"
  }
 },
 "nbformat": 4,
 "nbformat_minor": 4
}
